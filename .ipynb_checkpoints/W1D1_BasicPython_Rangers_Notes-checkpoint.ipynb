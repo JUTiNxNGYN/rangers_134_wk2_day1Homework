{
 "cells": [
  {
   "cell_type": "markdown",
   "metadata": {},
   "source": [
    "# Week 2 - Monday Lesson (variable assignment, loops, lists)"
   ]
  },
  {
   "cell_type": "markdown",
   "metadata": {},
   "source": [
    "## Tasks Today:\n",
    "\n",
    "1) Int & Float assignments <br>\n",
    " &nbsp;&nbsp;&nbsp;&nbsp; a) Assigning int <br>\n",
    " &nbsp;&nbsp;&nbsp;&nbsp; b) Assigning float <br>\n",
    " &nbsp;&nbsp;&nbsp;&nbsp; c) Performing Calculations on ints and floats <br>\n",
    " &nbsp;&nbsp;&nbsp;&nbsp;&nbsp;&nbsp;&nbsp;&nbsp; - Addition <br>\n",
    " &nbsp;&nbsp;&nbsp;&nbsp;&nbsp;&nbsp;&nbsp;&nbsp; - Subtraction <br>\n",
    " &nbsp;&nbsp;&nbsp;&nbsp;&nbsp;&nbsp;&nbsp;&nbsp; - Multiplication <br>\n",
    " &nbsp;&nbsp;&nbsp;&nbsp;&nbsp;&nbsp;&nbsp;&nbsp; - Division <br>\n",
    " &nbsp;&nbsp;&nbsp;&nbsp;&nbsp;&nbsp;&nbsp;&nbsp; - Floor Division <br>\n",
    " &nbsp;&nbsp;&nbsp;&nbsp;&nbsp;&nbsp;&nbsp;&nbsp; - Modulo <br>\n",
    " &nbsp;&nbsp;&nbsp;&nbsp;&nbsp;&nbsp;&nbsp;&nbsp; - Exponential <br>\n",
    "2) String Input-Output <br>\n",
    " &nbsp;&nbsp;&nbsp;&nbsp; a) String Assignment <br>\n",
    " &nbsp;&nbsp;&nbsp;&nbsp; b) print() <br>\n",
    " &nbsp;&nbsp;&nbsp;&nbsp; c) String Concatenation <br>\n",
    " &nbsp;&nbsp;&nbsp;&nbsp; d) Type Conversion <br>\n",
    " &nbsp;&nbsp;&nbsp;&nbsp; e) input() <br>\n",
    " &nbsp;&nbsp;&nbsp;&nbsp; f) format() <br>\n",
    " &nbsp;&nbsp;&nbsp;&nbsp; g) Old Way (python 2) <br>\n",
    "3) <b>In-Class Exercise #1</b> <br>\n",
    "4) If Statements <br>\n",
    " &nbsp;&nbsp;&nbsp;&nbsp; a) 'is' keyword <br>\n",
    " &nbsp;&nbsp;&nbsp;&nbsp; b) 'in' keyword <br>\n",
    " &nbsp;&nbsp;&nbsp;&nbsp; c) 'not in' keyword <br>\n",
    "5) <b>In-Class Exercise #2</b> <br>\n",
    "6) Elif Statements <br>\n",
    "7) Else Statements <br>\n",
    "8) <b>In-Class Exercise #3</b> <br>\n",
    "9) Built-In Functions <br>\n",
    "\n",
    " &nbsp;&nbsp;&nbsp;&nbsp; b) len() <br>\n",
    " &nbsp;&nbsp;&nbsp;&nbsp; c) help() <br>\n",
    " &nbsp;&nbsp;&nbsp;&nbsp; d) isinstance() <br>\n",
    " &nbsp;&nbsp;&nbsp;&nbsp; e) abs() <br>\n",
    "10) Try and Except <br>\n"
   ]
  },
  {
   "cell_type": "markdown",
   "metadata": {},
   "source": [
    "### Int & Float Assignments"
   ]
  },
  {
   "cell_type": "markdown",
   "metadata": {},
   "source": [
    "##### Assigning int"
   ]
  },
  {
   "cell_type": "code",
   "execution_count": 10,
   "metadata": {},
   "outputs": [
    {
     "name": "stdout",
     "output_type": "stream",
     "text": [
      "6\n",
      "10\n",
      "15 7\n"
     ]
    }
   ],
   "source": [
    "# variables are arbituary names that hold some kind of value\n",
    "# while the names dont matter, to make your code readable they should\n",
    "# relate to whatever the value\n",
    "number = 6\n",
    "print(number)\n",
    "\n",
    "elephants = 10\n",
    "print(elephants)\n",
    "\n",
    "x = 15\n",
    "y = 7\n",
    "print(x,y)\n"
   ]
  },
  {
   "cell_type": "markdown",
   "metadata": {},
   "source": [
    "##### Assigning float"
   ]
  },
  {
   "cell_type": "code",
   "execution_count": 11,
   "metadata": {},
   "outputs": [
    {
     "name": "stdout",
     "output_type": "stream",
     "text": [
      "3.14\n",
      "123.097862\n"
     ]
    }
   ],
   "source": [
    "# floats are decimals\n",
    "# 1.7\n",
    "my_float = 3.14\n",
    "print(my_float)\n",
    "\n",
    "big_float = 123.097862\n",
    "print(big_float)"
   ]
  },
  {
   "cell_type": "markdown",
   "metadata": {},
   "source": [
    "#### Performing Calculations on ints and floats"
   ]
  },
  {
   "cell_type": "markdown",
   "metadata": {},
   "source": [
    "##### Addition"
   ]
  },
  {
   "cell_type": "code",
   "execution_count": 12,
   "metadata": {},
   "outputs": [
    {
     "name": "stdout",
     "output_type": "stream",
     "text": [
      "13\n",
      "13\n",
      "9.14\n",
      "14\n"
     ]
    }
   ],
   "source": [
    "num1 = 7\n",
    "num2 = 6\n",
    "\n",
    "print(num1 + num2)\n",
    "\n",
    "result = num1 + num2\n",
    "print(result)\n",
    "\n",
    "#adding float and int together\n",
    "num3 = 3.14\n",
    "print(num3 + num2)\n",
    "\n",
    "result  += 1\n",
    "\n",
    "print(result)"
   ]
  },
  {
   "cell_type": "markdown",
   "metadata": {},
   "source": [
    "##### Subtraction"
   ]
  },
  {
   "cell_type": "code",
   "execution_count": 13,
   "metadata": {},
   "outputs": [
    {
     "name": "stdout",
     "output_type": "stream",
     "text": [
      "3\n",
      "-3\n",
      "-7\n"
     ]
    }
   ],
   "source": [
    "num3 = 15\n",
    "num4 = 12\n",
    "\n",
    "print(num3 - num4)\n",
    "\n",
    "result2 = num4 - num3\n",
    "print(result2)\n",
    "\n",
    "result2 -= 4\n",
    "print(result2)"
   ]
  },
  {
   "cell_type": "markdown",
   "metadata": {},
   "source": [
    "##### Multiplication"
   ]
  },
  {
   "cell_type": "code",
   "execution_count": 14,
   "metadata": {},
   "outputs": [
    {
     "name": "stdout",
     "output_type": "stream",
     "text": [
      "47.0\n",
      "94.0\n",
      "188.0\n"
     ]
    }
   ],
   "source": [
    "num1 = 10\n",
    "num2 = 4.7\n",
    "\n",
    "product = num1 * num2\n",
    "print(product)\n",
    "\n",
    "product *= 2\n",
    "print(product)\n",
    "\n",
    "product = product * 2 #Does the same thing as line 7, setting the current variable equal to the current value * 2\n",
    "print(product)\n"
   ]
  },
  {
   "cell_type": "markdown",
   "metadata": {},
   "source": [
    "##### Division"
   ]
  },
  {
   "cell_type": "code",
   "execution_count": 15,
   "metadata": {},
   "outputs": [
    {
     "name": "stdout",
     "output_type": "stream",
     "text": [
      "5.0\n",
      "5\n",
      "1.0\n"
     ]
    }
   ],
   "source": [
    "num1 = 45\n",
    "num2 = 9\n",
    "\n",
    "quotient = num1 / num2\n",
    "\n",
    "print(quotient)\n",
    "quotient = int(quotient)\n",
    "print(quotient)\n",
    "\n",
    "quotient /= 5\n",
    "\n",
    "print(quotient)"
   ]
  },
  {
   "cell_type": "markdown",
   "metadata": {},
   "source": [
    "##### Floor Division"
   ]
  },
  {
   "cell_type": "code",
   "execution_count": 16,
   "metadata": {},
   "outputs": [
    {
     "name": "stdout",
     "output_type": "stream",
     "text": [
      "2.5\n",
      "2\n"
     ]
    }
   ],
   "source": [
    "# Floor division is a division operation that rounds the result down \n",
    "# to the nearest whole number or integer, which is less than or equal to the normal division result.\n",
    "num1 = 5\n",
    "num2 = 2\n",
    "\n",
    "print(num1/num2)\n",
    "print(num1//num2)"
   ]
  },
  {
   "cell_type": "code",
   "execution_count": 17,
   "metadata": {},
   "outputs": [
    {
     "name": "stdout",
     "output_type": "stream",
     "text": [
      "5.644\n",
      "5\n"
     ]
    }
   ],
   "source": [
    "# round()\n",
    "num = 5.6435\n",
    "num2 = 5.4\n",
    "\n",
    "x = round(num , 3)\n",
    "print(x)\n",
    "y = round(num2)\n",
    "print(y)"
   ]
  },
  {
   "cell_type": "markdown",
   "metadata": {},
   "source": [
    "##### Modulo"
   ]
  },
  {
   "cell_type": "code",
   "execution_count": 83,
   "metadata": {},
   "outputs": [
    {
     "name": "stdout",
     "output_type": "stream",
     "text": [
      "2\n",
      "its odd\n"
     ]
    }
   ],
   "source": [
    "# return a remainder between two numbers\n",
    "num = 7\n",
    "num2 = 5\n",
    "\n",
    "new_num = num % num2\n",
    "print(new_num)\n",
    "\n",
    "if num % 2 == 0:\n",
    "    print(\"its even\")\n",
    "else:\n",
    "    print(\"its odd\")"
   ]
  },
  {
   "cell_type": "code",
   "execution_count": 18,
   "metadata": {},
   "outputs": [
    {
     "data": {
      "text/plain": [
       "'odd'"
      ]
     },
     "execution_count": 18,
     "metadata": {},
     "output_type": "execute_result"
    }
   ],
   "source": [
    "num1 = 2\n",
    "num2 = 3\n",
    "num3 = 4\n",
    "\n",
    "def is_even(num):\n",
    "    if num % 2 == 0:\n",
    "        return \"even\"\n",
    "    else:\n",
    "        return \"odd\"\n",
    "\n",
    "is_even(num2)"
   ]
  },
  {
   "cell_type": "code",
   "execution_count": null,
   "metadata": {},
   "outputs": [],
   "source": []
  },
  {
   "cell_type": "markdown",
   "metadata": {},
   "source": [
    "##### Exponential"
   ]
  },
  {
   "cell_type": "code",
   "execution_count": 20,
   "metadata": {},
   "outputs": [
    {
     "name": "stdout",
     "output_type": "stream",
     "text": [
      "25\n",
      "625\n",
      "9\n"
     ]
    }
   ],
   "source": [
    "square = 5**2\n",
    "\n",
    "print(square)\n",
    "\n",
    "square**=2\n",
    "print(square)\n",
    "\n",
    "cubed = 3*3\n",
    "print(cubed)"
   ]
  },
  {
   "cell_type": "code",
   "execution_count": null,
   "metadata": {},
   "outputs": [],
   "source": []
  },
  {
   "cell_type": "markdown",
   "metadata": {},
   "source": [
    "### String Input-Output"
   ]
  },
  {
   "cell_type": "markdown",
   "metadata": {},
   "source": [
    "##### String Assignment"
   ]
  },
  {
   "cell_type": "code",
   "execution_count": 22,
   "metadata": {},
   "outputs": [],
   "source": [
    "name = \"Ryan\"\n",
    "\n",
    "# empty string\n",
    "new_string = \"\"\n",
    "\n",
    "# double and single quotes work here\n",
    "another_name = 'Charmander'"
   ]
  },
  {
   "cell_type": "markdown",
   "metadata": {},
   "source": [
    "##### print() <br>\n",
    "<p>Don't forget about end=' '</p>"
   ]
  },
  {
   "cell_type": "code",
   "execution_count": 23,
   "metadata": {},
   "outputs": [
    {
     "name": "stdout",
     "output_type": "stream",
     "text": [
      "Ryan\n",
      "Ryan***Charmander***1***2***Hello&&&"
     ]
    }
   ],
   "source": [
    "# help(print)\n",
    "print(name)\n",
    "#.    things that get printed            seperation ending the line\n",
    "print(name, another_name, 1, 2, \"Hello\", sep='***', end=\"&&&\")"
   ]
  },
  {
   "cell_type": "markdown",
   "metadata": {},
   "source": [
    "##### String Concatenation"
   ]
  },
  {
   "cell_type": "code",
   "execution_count": 24,
   "metadata": {},
   "outputs": [
    {
     "name": "stdout",
     "output_type": "stream",
     "text": [
      "Luke Skywalker\n",
      "Luke Skywalker Jedi Master\n"
     ]
    }
   ],
   "source": [
    "# a string is immutable which means it cannot be altered in anyway\n",
    "first_name = \"Luke\"\n",
    "last_name = \"Skywalker\"\n",
    "\n",
    "full_name = first_name + \" \" + last_name\n",
    "print(full_name)\n",
    "\n",
    "full_name +=(\" \" + \"Jedi Master\")\n",
    "\n",
    "print(full_name)"
   ]
  },
  {
   "cell_type": "markdown",
   "metadata": {},
   "source": [
    "##### Type Conversion"
   ]
  },
  {
   "cell_type": "code",
   "execution_count": 25,
   "metadata": {},
   "outputs": [
    {
     "name": "stdout",
     "output_type": "stream",
     "text": [
      "<class 'str'>\n",
      "<class 'int'>\n",
      "<class 'str'>\n",
      "<class 'str'>\n"
     ]
    }
   ],
   "source": [
    "# int() convert type into integer type\n",
    "# float() converts to float type\n",
    "# str() converts to string type\n",
    "# not every string can be made into a float or integer but every integer or float can be made into a string\n",
    "\n",
    "string_num = '5'\n",
    "print(type(string_num))\n",
    "int_num = int(string_num)\n",
    "print(type(int_num))\n",
    "\n",
    "my_name = \"Ryan\"\n",
    "\n",
    "# name_int = int(my_name)\n",
    "# print(name_int)\n",
    "\n",
    "my_num = 10\n",
    "my_float = 15.7\n",
    "\n",
    "my_string_num = str(my_num)\n",
    "print(type(my_string_num))\n",
    "\n",
    "my_string_float = str(my_float)\n",
    "print(type(my_string_float))\n",
    "\n",
    "my_string = '14'\n",
    "my_string2 = 'ryan'\n",
    "my_string3 = 'drink lots of water and stay hydrated'\n",
    "my_string4 = 'i have 1000 pokemon cards maybe more idk i didnt count'\n",
    "my_string5 = '590438094uijklsdjf-'"
   ]
  },
  {
   "cell_type": "markdown",
   "metadata": {},
   "source": [
    "##### input()"
   ]
  },
  {
   "cell_type": "code",
   "execution_count": 26,
   "metadata": {},
   "outputs": [
    {
     "name": "stdout",
     "output_type": "stream",
     "text": [
      "How much does a pack of pokemon cards cost?2\n"
     ]
    }
   ],
   "source": [
    "amount = float(input('How much does a pack of pokemon cards cost?'))\n"
   ]
  },
  {
   "cell_type": "code",
   "execution_count": 27,
   "metadata": {},
   "outputs": [
    {
     "name": "stdout",
     "output_type": "stream",
     "text": [
      "8.0\n"
     ]
    }
   ],
   "source": [
    "total = amount * 4\n",
    "print(total)"
   ]
  },
  {
   "cell_type": "code",
   "execution_count": 9,
   "metadata": {
    "scrolled": true
   },
   "outputs": [
    {
     "name": "stdout",
     "output_type": "stream",
     "text": [
      "What is your name? Justin\n",
      "Your name is,  Justin\n",
      "What is your quest? To code\n",
      "Your quest is,  To code\n",
      "What is your favorite color?Blue\n",
      "Your favorite color is, Blue\n"
     ]
    }
   ],
   "source": [
    "# input will always return a string type forever and ever and ever and ever\n",
    "name = input(\"What is your name? \")\n",
    "print(\"Your name is, \", name)\n",
    "\n",
    "quest = input(\"What is your quest? \")\n",
    "print(\"Your quest is, \", quest)\n",
    "\n",
    "color = input(\"What is your favorite color? \")\n",
    "print(\"Your favorite color is,\", color)"
   ]
  },
  {
   "cell_type": "code",
   "execution_count": null,
   "metadata": {},
   "outputs": [],
   "source": [
    "age = int (input(\"How old are you?\" ))\n",
    "\n",
    "print( \"You are\", age, \"years old\")"
   ]
  },
  {
   "cell_type": "code",
   "execution_count": null,
   "metadata": {},
   "outputs": [],
   "source": [
    "age += 1\n",
    "\n",
    "print(\"Happy Birthday! You are now\", age)"
   ]
  },
  {
   "cell_type": "markdown",
   "metadata": {},
   "source": [
    "##### format()"
   ]
  },
  {
   "cell_type": "code",
   "execution_count": 28,
   "metadata": {},
   "outputs": [
    {
     "name": "stdout",
     "output_type": "stream",
     "text": [
      "How old are you 2\n",
      "What is your name Justin\n",
      "You are Justin years old, 2 and you are getting wiser!\n"
     ]
    }
   ],
   "source": [
    "age = int(input(\"How old are you \"))\n",
    "name = input(\"What is your name \")\n",
    "\n",
    "result_string = \"You are {} years old, {} and you are getting wiser!\" .format(name, age)\n",
    "print(result_string)"
   ]
  },
  {
   "cell_type": "markdown",
   "metadata": {},
   "source": [
    "##### Old Way (python 2)"
   ]
  },
  {
   "cell_type": "code",
   "execution_count": 29,
   "metadata": {},
   "outputs": [
    {
     "name": "stdout",
     "output_type": "stream",
     "text": [
      "You are 2 and you look great for your age!\n"
     ]
    }
   ],
   "source": [
    "result_string2 = \"You are %s and you look great for your age!\" %age\n",
    "print(result_string2)"
   ]
  },
  {
   "cell_type": "code",
   "execution_count": 30,
   "metadata": {},
   "outputs": [
    {
     "name": "stdout",
     "output_type": "stream",
     "text": [
      "Who is your favorite pokemon? Charmander\n",
      "Charmander is really cool.\n"
     ]
    }
   ],
   "source": [
    "# f string\n",
    "# f\"\"\n",
    "pokemon = input(\"Who is your favorite pokemon? \")\n",
    "print(f\"{pokemon} is really cool.\")"
   ]
  },
  {
   "cell_type": "markdown",
   "metadata": {},
   "source": [
    "# In-Class Exercise 1 <br>\n",
    "<p>Create a formatted statement that asks for a car's color, year, make, model and prints out the results</p>"
   ]
  },
  {
   "cell_type": "code",
   "execution_count": 2,
   "metadata": {},
   "outputs": [
    {
     "name": "stdout",
     "output_type": "stream",
     "text": [
      "What color is your car? White\n",
      "What is the year of your car? 2014\n",
      "What is the make of your car? Toyota\n",
      "What is the model of your car? Tacoma\n",
      "Your vehicle is a: White 2014 Toyota Tacoma.\n"
     ]
    }
   ],
   "source": [
    "color = input(\"What color is your car? \")\n",
    "year = input(\"What is the year of your car? \")\n",
    "make = input(\"What is the make of your car? \")\n",
    "model = input(\"What is the model of your car? \")\n",
    "            \n",
    "print(f\"Your vehicle is a: {color} {year} {make} {model}.\")"
   ]
  },
  {
   "cell_type": "code",
   "execution_count": 3,
   "metadata": {},
   "outputs": [
    {
     "name": "stdout",
     "output_type": "stream",
     "text": [
      "What color is your car? white\n",
      "What is the year of your car? 2014\n",
      "What is the make of your car? toyota\n",
      "What is the model of your car? tundra\n",
      "Your vehicle is a: white 2014 toyota tundra.\n"
     ]
    }
   ],
   "source": [
    "color = input(\"What color is your car? \")\n",
    "year = input(\"What is the year of your car? \")\n",
    "make = input(\"What is the make of your car? \")\n",
    "model = input(\"What is the model of your car? \")\n",
    "            \n",
    "car_info = f\"Your vehicle is a: {color} {year} {make} {model}.\"\n",
    "print(car_info)"
   ]
  },
  {
   "cell_type": "markdown",
   "metadata": {},
   "source": [
    "### If Statements"
   ]
  },
  {
   "cell_type": "code",
   "execution_count": 34,
   "metadata": {},
   "outputs": [
    {
     "name": "stdout",
     "output_type": "stream",
     "text": [
      "False\n",
      "True\n",
      "True\n"
     ]
    }
   ],
   "source": [
    "# Less than < Greater Than >, Equal To ==, Not Equal !=\n",
    "# Less than or Equal to <= Greater than or Equal to >=\n",
    "# Truth Tree\n",
    "# T and F = F\n",
    "# T and T = T\n",
    "# T or F = T\n",
    "# F or T = T\n",
    "# F or F = F\n",
    "\n",
    "num1 = 6\n",
    "num2 = 65\n",
    "# if\n",
    "# elif\n",
    "# else\n",
    "\n",
    "if num2 == num1:\n",
    "    print(\"True\")\n",
    "else: \n",
    "    print(\"False\")\n",
    "    \n",
    "if num1 > 5 and num2 <100:\n",
    "    print(True)\n",
    "else:\n",
    "    print(False)\n",
    "    \n",
    "if num1 == 5 or num2 > 50:\n",
    "    print(True)\n",
    "else:\n",
    "    print(False)"
   ]
  },
  {
   "cell_type": "markdown",
   "metadata": {},
   "source": [
    "##### 'is' keyword"
   ]
  },
  {
   "cell_type": "code",
   "execution_count": 42,
   "metadata": {
    "scrolled": true
   },
   "outputs": [
    {
     "name": "stdout",
     "output_type": "stream",
     "text": [
      "thatll do it\n",
      "yes\n"
     ]
    }
   ],
   "source": [
    "# use is keyword for checking same/similar objects (locations) not same value\n",
    "num3 = 90\n",
    "\n",
    "if num3 == 90:\n",
    "    print(\"thatll do it\")\n",
    "    \n",
    "num4 = num3\n",
    "\n",
    "if num4 is num3:\n",
    "    print(\"yes\")"
   ]
  },
  {
   "cell_type": "markdown",
   "metadata": {},
   "source": [
    "##### 'in' keyword"
   ]
  },
  {
   "cell_type": "code",
   "execution_count": 47,
   "metadata": {},
   "outputs": [
    {
     "name": "stdout",
     "output_type": "stream",
     "text": [
      "Excellent\n",
      "ULLLLTIMATE POWERRRRRR\n"
     ]
    }
   ],
   "source": [
    "# membership check to see if a value is inside of something else (usually an iterable)\n",
    "# iterable is something we can iterate through and check each character or value\n",
    "character_name = \"Boba Fett\"\n",
    "if \"b\" in char_name.lower():\n",
    "    print(\"Excellent\")\n",
    "else:\n",
    "    print(\"No B's here\")\n",
    "    \n",
    "if \"f\" in \"Mace Windu\":\n",
    "    print(\"We do not grant you the rank of master.\")\n",
    "else:\n",
    "    print(\"ULLLLTIMATE POWERRRRRR\")"
   ]
  },
  {
   "cell_type": "markdown",
   "metadata": {},
   "source": [
    "##### 'not in' keyword'"
   ]
  },
  {
   "cell_type": "code",
   "execution_count": 48,
   "metadata": {},
   "outputs": [
    {
     "name": "stdout",
     "output_type": "stream",
     "text": [
      "argh\n"
     ]
    }
   ],
   "source": [
    "name = \"Mega Man\"\n",
    "\n",
    "if \"r\" not in name:\n",
    "    print(\"argh\")\n",
    "else:\n",
    "    print(\"radical\")"
   ]
  },
  {
   "cell_type": "markdown",
   "metadata": {},
   "source": [
    "# In-Class Exercise 2 <br>\n",
    "<p>Ask user for input, check to see if the letter 'p' is in the input</p>\n",
    "<p>Check for case sensitivity</p>\n"
   ]
  },
  {
   "cell_type": "code",
   "execution_count": 51,
   "metadata": {
    "scrolled": true
   },
   "outputs": [
    {
     "name": "stdout",
     "output_type": "stream",
     "text": [
      "How is your day? Good\n",
      "Good\n",
      "There is no letter 'p' in Good\n"
     ]
    }
   ],
   "source": [
    "day = input(\"How is your day? \")\n",
    "print(day)\n",
    "\n",
    "if \"p\" in day.lower():\n",
    "    print(\"There is the letter 'p' in \", day)\n",
    "else: \n",
    "    print(\"There is no letter 'p' in\", day)"
   ]
  },
  {
   "cell_type": "code",
   "execution_count": 53,
   "metadata": {},
   "outputs": [
    {
     "name": "stdout",
     "output_type": "stream",
     "text": [
      "Hey you, enter a string: Potatoes\n",
      "Big P in here\n"
     ]
    }
   ],
   "source": [
    "user_input = input(\"Hey you, enter a string: \")\n",
    "\n",
    "if 'p' in user_input:\n",
    "    print(\"p was in there indeed\")\n",
    "elif 'P' in user_input:\n",
    "    print(\"Big P in here\")"
   ]
  },
  {
   "cell_type": "code",
   "execution_count": null,
   "metadata": {},
   "outputs": [],
   "source": []
  },
  {
   "cell_type": "code",
   "execution_count": null,
   "metadata": {},
   "outputs": [],
   "source": []
  },
  {
   "cell_type": "markdown",
   "metadata": {},
   "source": [
    "## Using 'and'/'or' with If Statements"
   ]
  },
  {
   "cell_type": "code",
   "execution_count": 52,
   "metadata": {},
   "outputs": [
    {
     "name": "stdout",
     "output_type": "stream",
     "text": [
      "False\n",
      "True\n",
      "True\n"
     ]
    }
   ],
   "source": [
    "# Less than < Greater Than >, Equal To ==, Not Equal !=\n",
    "# Less than or Equal to <= Greater than or Equal to >=\n",
    "# Truth Tree\n",
    "# T and F = F\n",
    "# T and T = T\n",
    "# T or F = T\n",
    "# F or T = T\n",
    "# F or F = F\n",
    "\n",
    "num1 = 6\n",
    "num2 = 65\n",
    "\n",
    "if num2 == num1:\n",
    "    print(\"True\")\n",
    "else: \n",
    "    print(\"False\")\n",
    "    \n",
    "if num1 > 5 and num2 <100:\n",
    "    print(True)\n",
    "else:\n",
    "    print(False)\n",
    "    \n",
    "if num1 == 5 or num2 > 50:\n",
    "    print(True)\n",
    "else:\n",
    "    print(False)"
   ]
  },
  {
   "cell_type": "markdown",
   "metadata": {},
   "source": [
    "### Elif Statements"
   ]
  },
  {
   "cell_type": "code",
   "execution_count": 40,
   "metadata": {},
   "outputs": [
    {
     "name": "stdout",
     "output_type": "stream",
     "text": [
      "What is your name? Legolas\n",
      "They're taking the hobbits to isengard\n"
     ]
    }
   ],
   "source": [
    "# if condition1\n",
    "# elif condition2\n",
    "# elif condition3\n",
    "# elif condition4\n",
    "# else\n",
    "\n",
    "name = input(\"What is your name? \")\n",
    "if name == \"Legolas\":\n",
    "    print(\"They're taking the hobbits to isengard\")\n",
    "elif name == \"Gimli\":\n",
    "    print(\"I cannot make the jump, you have to toss me\")\n",
    "elif name == \"Aragorn\":\n",
    "    print(\"My friends, you bow to no one.\")\n",
    "else:\n",
    "    print(\"When is second breakfast!?\")"
   ]
  },
  {
   "cell_type": "markdown",
   "metadata": {},
   "source": [
    "### Else Statements"
   ]
  },
  {
   "cell_type": "code",
   "execution_count": null,
   "metadata": {},
   "outputs": [],
   "source": [
    "# this covers and situation not covered by the ifs and elifs\n",
    "# if none of the above conditions are met, the else will be hit\n",
    "\n",
    "name = input(\"What is your name? \")\n",
    "if name == \"Legolas\":\n",
    "    print(\"They're taking the hobbits to isengard\")\n",
    "elif name == \"Gimli\":\n",
    "    print(\"I cannot make the jump, you have to toss me\")\n",
    "elif name == \"Aragorn\":\n",
    "    print(\"My friends, you bow to no one.\")\n",
    "elif name == \"Gandalf\":\n",
    "    print(\"Fool of a Took\")\n",
    "elif name == \"Sam\":\n",
    "    print(\"I may not be able to carry the ring, but i can carry you\")\n",
    "elif name == \"Goblin\":\n",
    "    print(\"Reeeeeeeeeeeeeeeeeeeeeeeee\")\n",
    "else:\n",
    "    print(\"When is second breakfast!?\") # if none of the above are met, the else gets triggered"
   ]
  },
  {
   "cell_type": "markdown",
   "metadata": {},
   "source": [
    "### String Manipulation"
   ]
  },
  {
   "cell_type": "markdown",
   "metadata": {},
   "source": [
    "#### .lstrip()"
   ]
  },
  {
   "cell_type": "code",
   "execution_count": 54,
   "metadata": {},
   "outputs": [
    {
     "name": "stdout",
     "output_type": "stream",
     "text": [
      "         Lando Calrissian\n",
      "Lando Calrissian\n"
     ]
    }
   ],
   "source": [
    "# string.lstrip()\n",
    "# removes whitespace from left side of string\n",
    "name = \"         Lando Calrissian\"\n",
    "print(name)\n",
    "print(name.lstrip())"
   ]
  },
  {
   "cell_type": "markdown",
   "metadata": {},
   "source": [
    "#### .rstrip()"
   ]
  },
  {
   "cell_type": "code",
   "execution_count": 55,
   "metadata": {},
   "outputs": [
    {
     "name": "stdout",
     "output_type": "stream",
     "text": [
      "Luke Skywalker              \n",
      "Luke Skywalker\n"
     ]
    }
   ],
   "source": [
    "# string.lstrip()\n",
    "# removes whitespace from right side of string\n",
    "name = \"Luke Skywalker              \"\n",
    "print(name)\n",
    "print(name.rstrip())"
   ]
  },
  {
   "cell_type": "markdown",
   "metadata": {},
   "source": [
    "#### .strip()"
   ]
  },
  {
   "cell_type": "code",
   "execution_count": 56,
   "metadata": {},
   "outputs": [
    {
     "name": "stdout",
     "output_type": "stream",
     "text": [
      "       Ash Ketchum          \n",
      "Ash Ketchum\n"
     ]
    }
   ],
   "source": [
    "# string.strip()\n",
    "# removes whitespace from all sides\n",
    "name = \"       Ash Ketchum          \"\n",
    "print(name)\n",
    "print(name.strip())"
   ]
  },
  {
   "cell_type": "code",
   "execution_count": 58,
   "metadata": {},
   "outputs": [
    {
     "name": "stdout",
     "output_type": "stream",
     "text": [
      ",,,,,,,rod kimble,\n",
      "rod kimble\n"
     ]
    }
   ],
   "source": [
    "name = \",,,,,,,rod kimble,\"\n",
    "print(name)\n",
    "\n",
    "print(name.strip(','))"
   ]
  },
  {
   "cell_type": "code",
   "execution_count": 62,
   "metadata": {},
   "outputs": [
    {
     "name": "stdout",
     "output_type": "stream",
     "text": [
      "siiiick\n"
     ]
    }
   ],
   "source": [
    "var1 = \"something\"\n",
    "var2 = \"something \"\n",
    "var2 = var2.strip()\n",
    "if var1 == var2:\n",
    "    print(\"siiiick\")\n",
    "else:\n",
    "    print(\"boooo\")"
   ]
  },
  {
   "cell_type": "markdown",
   "metadata": {},
   "source": [
    "#### .title()"
   ]
  },
  {
   "cell_type": "code",
   "execution_count": 61,
   "metadata": {},
   "outputs": [
    {
     "name": "stdout",
     "output_type": "stream",
     "text": [
      "Goofy Goober\n"
     ]
    }
   ],
   "source": [
    "# string.title()\n",
    "name = \"goofy goober\"\n",
    "print(name.title())"
   ]
  },
  {
   "cell_type": "markdown",
   "metadata": {},
   "source": [
    "#### .upper()"
   ]
  },
  {
   "cell_type": "code",
   "execution_count": 60,
   "metadata": {},
   "outputs": [
    {
     "name": "stdout",
     "output_type": "stream",
     "text": [
      "CHEETOR\n"
     ]
    }
   ],
   "source": [
    "name = \"Cheetor\"\n",
    "print(name.upper())"
   ]
  },
  {
   "cell_type": "markdown",
   "metadata": {},
   "source": [
    "#### .lower()"
   ]
  },
  {
   "cell_type": "code",
   "execution_count": 59,
   "metadata": {
    "scrolled": true
   },
   "outputs": [
    {
     "name": "stdout",
     "output_type": "stream",
     "text": [
      "squirtle\n"
     ]
    }
   ],
   "source": [
    "name = \"SQUIRTLE\"\n",
    "print(name.lower())"
   ]
  },
  {
   "cell_type": "markdown",
   "metadata": {},
   "source": [
    "### String Exercise"
   ]
  },
  {
   "cell_type": "markdown",
   "metadata": {},
   "source": [
    "Have a user input a sentence. Return the name with all white space removed and each first letter capitalized."
   ]
  },
  {
   "cell_type": "code",
   "execution_count": 63,
   "metadata": {},
   "outputs": [
    {
     "name": "stdout",
     "output_type": "stream",
     "text": [
      "tell me a quick story! when i was 7 i saw star wars with my dad and i couldnt find the bathroom so i peed my pants\n",
      "When I Was 7 I Saw Star Wars With My Dad And I Couldnt Find The Bathroom So I Peed My Pants\n"
     ]
    }
   ],
   "source": [
    "sentence = input(\"tell me a quick story! \")\n",
    "print(sentence.strip().title())\n"
   ]
  },
  {
   "cell_type": "markdown",
   "metadata": {},
   "source": [
    "### Built-In Functions"
   ]
  },
  {
   "cell_type": "markdown",
   "metadata": {},
   "source": [
    "##### len()"
   ]
  },
  {
   "cell_type": "code",
   "execution_count": 64,
   "metadata": {},
   "outputs": [
    {
     "name": "stdout",
     "output_type": "stream",
     "text": [
      "3\n"
     ]
    }
   ],
   "source": [
    "# works for strings and lists\n",
    "# return the length of a given variable as an integer\n",
    "# _length_ attribute of an iterable\n",
    "name = \"Max\"\n",
    "length_of_name = len(name)\n",
    "print(length_of_name)"
   ]
  },
  {
   "cell_type": "markdown",
   "metadata": {},
   "source": [
    "##### help()"
   ]
  },
  {
   "cell_type": "code",
   "execution_count": null,
   "metadata": {},
   "outputs": [],
   "source": [
    "# gives a tooltip on a python buiolt-in Function\n",
    "help(len)\n",
    "help(print)"
   ]
  },
  {
   "cell_type": "markdown",
   "metadata": {},
   "source": [
    "##### isinstance()"
   ]
  },
  {
   "cell_type": "code",
   "execution_count": 65,
   "metadata": {},
   "outputs": [
    {
     "name": "stdout",
     "output_type": "stream",
     "text": [
      "False\n",
      "We all float down here\n"
     ]
    }
   ],
   "source": [
    "# check a variable/value to find out what Object Family (data type) it belongs to \n",
    "# isinstance(var, type)\n",
    "\n",
    "print(isinstance(4.5, int))\n",
    "\n",
    "if isinstance(4.5, float):\n",
    "    print(\"We all float down here\")\n",
    "else:\n",
    "    print(\"That does not float\")"
   ]
  },
  {
   "cell_type": "markdown",
   "metadata": {},
   "source": [
    "##### abs()"
   ]
  },
  {
   "cell_type": "code",
   "execution_count": 66,
   "metadata": {},
   "outputs": [
    {
     "name": "stdout",
     "output_type": "stream",
     "text": [
      "5\n",
      "100\n"
     ]
    }
   ],
   "source": [
    "# | 5 |\n",
    "# give us the distance to zero\n",
    "print(abs(-5))\n",
    "\n",
    "print(abs(100))"
   ]
  },
  {
   "cell_type": "markdown",
   "metadata": {},
   "source": [
    "### Try and Except"
   ]
  },
  {
   "cell_type": "code",
   "execution_count": 70,
   "metadata": {},
   "outputs": [
    {
     "name": "stdout",
     "output_type": "stream",
     "text": [
      "How old are you? 5\n",
      "Happy Birthday! You were 5 and now you are 6\n"
     ]
    }
   ],
   "source": [
    "# use this whenever you expect encounter a bug so that the error doesn't caause the program to stop\n",
    "# logging graceful error messages to gently nudge the user in the right direction\n",
    "\n",
    "age = int(input(\"How old are you? \"))\n",
    "print(f\"Happy Birthday! You were {age} and now you are {age+1}\")"
   ]
  },
  {
   "cell_type": "code",
   "execution_count": 74,
   "metadata": {},
   "outputs": [
    {
     "name": "stdout",
     "output_type": "stream",
     "text": [
      "How old are you? 5\n",
      "Happy Birthday! You were 5 and now are you are 6\n"
     ]
    }
   ],
   "source": [
    "try:\n",
    "    age = int(input(\"How old are you? \"))\n",
    "    print(f\"Happy Birthday! You were {age} and now are you are {age + 1}\")\n",
    "except:\n",
    "    print(\"please enter a number not letters and try again\")"
   ]
  },
  {
   "cell_type": "markdown",
   "metadata": {},
   "source": [
    "## Exercise #1 <br>\n",
    "<p>Accept two user ages as inputs and give us the difference between them. (The Answer should always be a positive output)</p>"
   ]
  },
  {
   "cell_type": "code",
   "execution_count": 1,
   "metadata": {},
   "outputs": [
    {
     "name": "stdout",
     "output_type": "stream",
     "text": [
      "What is the first user's age: 4\n",
      "What is the second user's age: 5\n",
      "The difference in ages is: 1 year(s) old\n"
     ]
    }
   ],
   "source": [
    "def calculate_age_difference(age1, age2):\n",
    "    age_difference = abs(age1 - age2)\n",
    "    return age_difference\n",
    "\n",
    "age1 = int(input(\"What is the first user's age: \"))\n",
    "age2 = int(input(\"What is the second user's age: \"))\n",
    "\n",
    "difference = calculate_age_difference(age1, age2)\n",
    "\n",
    "print(\"The difference in ages is:\", difference, \"year(s) old\")\n",
    "\n"
   ]
  },
  {
   "cell_type": "markdown",
   "metadata": {},
   "source": [
    "## Exercise #2 \n",
    "<p>Accept 3 user inputs for variables named noun, verb and adjective. Print out a formatted string using the outputs.</p>"
   ]
  },
  {
   "cell_type": "code",
   "execution_count": 5,
   "metadata": {},
   "outputs": [
    {
     "name": "stdout",
     "output_type": "stream",
     "text": [
      "Enter a noun: Apple\n",
      "Enter a verb: Marched\n",
      "Enter an adjective: Large\n",
      "Apple Marched Large\n"
     ]
    }
   ],
   "source": [
    "noun = input(\"Enter a noun: \")\n",
    "verb = input(\"Enter a verb: \")\n",
    "adjective = input(\"Enter an adjective: \")\n",
    "\n",
    "formatted_string = f\"{noun} {verb} {adjective}\"\n",
    "\n",
    "print(formatted_string)"
   ]
  },
  {
   "cell_type": "markdown",
   "metadata": {},
   "source": [
    "## Exercise #3 <br>\n",
    "<p>Take in a users input for their age, if they are younger than 18 print kids, if they're 18 to 65 print adults, else print seniors</p>"
   ]
  },
  {
   "cell_type": "code",
   "execution_count": 13,
   "metadata": {},
   "outputs": [
    {
     "name": "stdout",
     "output_type": "stream",
     "text": [
      "What is your age?: 18\n",
      "You are an adult\n"
     ]
    }
   ],
   "source": [
    "age = int(input(\"What is your age?: \"))\n",
    "\n",
    "if age < 18:\n",
    "    print(\"You are a kid\")\n",
    "elif age <= 65:\n",
    "    print(\"You are an adult\")\n",
    "else:\n",
    "    print(\"You are a senior\")"
   ]
  },
  {
   "cell_type": "markdown",
   "metadata": {},
   "source": [
    "## Exercise #4\n",
    "<p>Take in a number from a user input, output the number squared.</p>"
   ]
  },
  {
   "cell_type": "code",
   "execution_count": 15,
   "metadata": {},
   "outputs": [
    {
     "name": "stdout",
     "output_type": "stream",
     "text": [
      "Input a number please: 5\n",
      "The user's input is squared: 25.0\n"
     ]
    }
   ],
   "source": [
    "user_input = float(input(\"Input a number please: \"))\n",
    "\n",
    "squared_number = user_input **2\n",
    "              \n",
    "print(f\"The user's input is squared: {squared_number}\")"
   ]
  },
  {
   "cell_type": "markdown",
   "metadata": {},
   "source": [
    "## Exercise #5\n",
    "<p>Check the below variables' length. If the length of the word is greater than 5 output True, if it is less than 5, output False<p>\n"
   ]
  },
  {
   "cell_type": "code",
   "execution_count": null,
   "metadata": {},
   "outputs": [],
   "source": [
    "word1 = \"panini\"\n",
    "word2 = \"bulbasaur\"\n",
    "word3 = \"pie\"\n",
    "word4 = \"dolphin\"\n",
    "word5 = \"dog\""
   ]
  },
  {
   "cell_type": "code",
   "execution_count": 20,
   "metadata": {},
   "outputs": [
    {
     "name": "stdout",
     "output_type": "stream",
     "text": [
      "Is the length of 'panini' greater than 5? True\n",
      "Is the length of 'bulbasaur' greater than 5? True\n",
      "Is the length of 'pie' greater than 5? False\n",
      "Is the length of 'dolphin' greater than 5? True\n",
      "Is the length of 'dog' greater than 5? False\n"
     ]
    }
   ],
   "source": [
    "def check_letter_length(word):\n",
    "    return len(word) > 5\n",
    "\n",
    "words = [\"panini\", \"bulbasaur\", \"pie\", \"dolphin\", \"dog\"]\n",
    "\n",
    "for word in words:\n",
    "    print(f\"Is the length of '{word}' greater than 5? {check_letter_length(word)}\")"
   ]
  }
 ],
 "metadata": {
  "kernelspec": {
   "display_name": "Python 3 (ipykernel)",
   "language": "python",
   "name": "python3"
  },
  "language_info": {
   "codemirror_mode": {
    "name": "ipython",
    "version": 3
   },
   "file_extension": ".py",
   "mimetype": "text/x-python",
   "name": "python",
   "nbconvert_exporter": "python",
   "pygments_lexer": "ipython3",
   "version": "3.11.4"
  }
 },
 "nbformat": 4,
 "nbformat_minor": 2
}
